{
 "cells": [
  {
   "cell_type": "code",
   "execution_count": null,
   "metadata": {},
   "outputs": [],
   "source": [
    "from PIL import Image, ImageDraw\n",
    "import colorsys\n",
    "\n",
    "def rgb_to_hsl(rgb):\n",
    "    \"\"\"Convert an RGB tuple to an HSL tuple.\"\"\"\n",
    "    r, g, b = [x / 255.0 for x in rgb]  # Normalize RGB values to 0-1\n",
    "    h, l, s = colorsys.rgb_to_hls(r, g, b)\n",
    "    return f'({int(h * 360)}, {int(s * 100)}%, {int(l * 100)}%)'  # Convert to HSL with degrees and percentage\n",
    "\n",
    "def generate_full_palette_hsl(base_color, num_shades=5, num_tints=5, max_lightness=0.9, max_darkness=0.8):\n",
    "    # Convert the base color from hex to RGB\n",
    "    base_rgb = tuple(int(base_color[i:i+2], 16) for i in (1, 3, 5))\n",
    "    \n",
    "    # Create an image for the palette\n",
    "    width, height = 500, 100\n",
    "    total_colors = num_shades + num_tints + 1  # Total colors including base\n",
    "    img = Image.new(\"RGB\", (width, height), \"white\")\n",
    "    draw = ImageDraw.Draw(img)\n",
    "    \n",
    "    # Generate lighter tints\n",
    "    lighter_colors = [\n",
    "        (\n",
    "            int(base_rgb[0] + (255 - base_rgb[0]) * (i / num_tints) * max_lightness),\n",
    "            int(base_rgb[1] + (255 - base_rgb[1]) * (i / num_tints) * max_lightness),\n",
    "            int(base_rgb[2] + (255 - base_rgb[2]) * (i / num_tints) * max_lightness),\n",
    "        )\n",
    "        for i in range(1, num_tints + 1)\n",
    "    ]\n",
    "    \n",
    "    # Generate darker shades\n",
    "    darker_colors = [\n",
    "        (\n",
    "            int(base_rgb[0] * (1 - (i / num_shades) * max_darkness)),\n",
    "            int(base_rgb[1] * (1 - (i / num_shades) * max_darkness)),\n",
    "            int(base_rgb[2] * (1 - (i / num_shades) * max_darkness)),\n",
    "        )\n",
    "        for i in range(1, num_shades + 1)\n",
    "    ]\n",
    "    \n",
    "    # Combine colors: darker shades, base color, and lighter tints\n",
    "    colors = darker_colors[::-1] + [base_rgb] + lighter_colors\n",
    "    \n",
    "    # Draw each color as a rectangle and print HSL values\n",
    "    rect_width = width // total_colors\n",
    "    hsl_palette = []\n",
    "    for i, color in enumerate(colors):\n",
    "        draw.rectangle([i * rect_width, 0, (i + 1) * rect_width, height], fill=color)\n",
    "        hsl_value = rgb_to_hsl(color)\n",
    "        hsl_palette.append(hsl_value)\n",
    "        print(f\"{hsl_value}\")\n",
    "    \n",
    "    img.show()\n",
    "    return hsl_palette\n",
    "\n"
   ]
  },
  {
   "cell_type": "code",
   "execution_count": 2,
   "metadata": {},
   "outputs": [
    {
     "name": "stdout",
     "output_type": "stream",
     "text": [
      "(180, 9%, 4%)\n",
      "(165, 10%, 7%)\n",
      "(167, 8%, 11%)\n",
      "(171, 9%, 15%)\n",
      "(173, 9%, 18%)\n",
      "(174, 8%, 22%)\n",
      "(172, 4%, 36%)\n",
      "(170, 2%, 50%)\n",
      "(168, 2%, 64%)\n",
      "(180, 1%, 78%)\n",
      "(180, 2%, 91%)\n",
      "['(180, 9%, 4%)', '(165, 10%, 7%)', '(167, 8%, 11%)', '(171, 9%, 15%)', '(173, 9%, 18%)', '(174, 8%, 22%)', '(172, 4%, 36%)', '(170, 2%, 50%)', '(168, 2%, 64%)', '(180, 1%, 78%)', '(180, 2%, 91%)']\n"
     ]
    }
   ],
   "source": [
    "background = generate_full_palette_hsl(\"#343E3D\")\n",
    "print(background)\n"
   ]
  },
  {
   "cell_type": "code",
   "execution_count": 3,
   "metadata": {},
   "outputs": [
    {
     "name": "stdout",
     "output_type": "stream",
     "text": [
      "(356, 45%, 12%)\n",
      "(354, 46%, 23%)\n",
      "(354, 45%, 33%)\n",
      "(354, 46%, 44%)\n",
      "(354, 55%, 54%)\n",
      "(354, 87%, 65%)\n",
      "(354, 86%, 71%)\n",
      "(354, 85%, 77%)\n",
      "(354, 85%, 83%)\n",
      "(354, 84%, 90%)\n",
      "(352, 78%, 96%)\n",
      "['(356, 45%, 12%)', '(354, 46%, 23%)', '(354, 45%, 33%)', '(354, 46%, 44%)', '(354, 55%, 54%)', '(354, 87%, 65%)', '(354, 86%, 71%)', '(354, 85%, 77%)', '(354, 85%, 83%)', '(354, 84%, 90%)', '(352, 78%, 96%)']\n"
     ]
    }
   ],
   "source": [
    "red = generate_full_palette_hsl(\"#F45B69\")\n",
    "print(red)"
   ]
  },
  {
   "cell_type": "code",
   "execution_count": 4,
   "metadata": {},
   "outputs": [
    {
     "name": "stdout",
     "output_type": "stream",
     "text": [
      "(39, 95%, 9%)\n",
      "(40, 95%, 17%)\n",
      "(39, 93%, 25%)\n",
      "(39, 94%, 32%)\n",
      "(39, 94%, 40%)\n",
      "(39, 93%, 48%)\n",
      "(39, 88%, 57%)\n",
      "(39, 89%, 67%)\n",
      "(39, 88%, 76%)\n",
      "(39, 89%, 85%)\n",
      "(39, 85%, 94%)\n",
      "['(39, 95%, 9%)', '(40, 95%, 17%)', '(39, 93%, 25%)', '(39, 94%, 32%)', '(39, 94%, 40%)', '(39, 93%, 48%)', '(39, 88%, 57%)', '(39, 89%, 67%)', '(39, 88%, 76%)', '(39, 89%, 85%)', '(39, 85%, 94%)']\n"
     ]
    }
   ],
   "source": [
    "yellow = generate_full_palette_hsl(\"#F1A208\")\n",
    "print(yellow)"
   ]
  },
  {
   "cell_type": "code",
   "execution_count": 5,
   "metadata": {},
   "outputs": [
    {
     "name": "stdout",
     "output_type": "stream",
     "text": [
      "(135, 15%, 10%)\n",
      "(128, 14%, 18%)\n",
      "(128, 15%, 27%)\n",
      "(130, 15%, 35%)\n",
      "(130, 15%, 44%)\n",
      "(130, 17%, 52%)\n",
      "(130, 17%, 61%)\n",
      "(131, 17%, 69%)\n",
      "(129, 17%, 78%)\n",
      "(129, 17%, 86%)\n",
      "(131, 20%, 95%)\n",
      "['(135, 15%, 10%)', '(128, 14%, 18%)', '(128, 15%, 27%)', '(130, 15%, 35%)', '(130, 15%, 44%)', '(130, 17%, 52%)', '(130, 17%, 61%)', '(131, 17%, 69%)', '(129, 17%, 78%)', '(129, 17%, 86%)', '(131, 20%, 95%)']\n"
     ]
    }
   ],
   "source": [
    "green = generate_full_palette_hsl(\"#729B79\")\n",
    "print(green)"
   ]
  },
  {
   "cell_type": "code",
   "execution_count": 6,
   "metadata": {},
   "outputs": [
    {
     "name": "stdout",
     "output_type": "stream",
     "text": [
      "(0, 0%, 18%)\n",
      "(0, 0%, 32%)\n",
      "(0, 0%, 47%)\n",
      "(0, 0%, 62%)\n",
      "(0, 0%, 77%)\n",
      "(0, 0%, 92%)\n",
      "(0, 0%, 93%)\n",
      "(0, 0%, 94%)\n",
      "(0, 0%, 96%)\n",
      "(0, 0%, 97%)\n",
      "(0, 0%, 99%)\n",
      "['(0, 0%, 18%)', '(0, 0%, 32%)', '(0, 0%, 47%)', '(0, 0%, 62%)', '(0, 0%, 77%)', '(0, 0%, 92%)', '(0, 0%, 93%)', '(0, 0%, 94%)', '(0, 0%, 96%)', '(0, 0%, 97%)', '(0, 0%, 99%)']\n"
     ]
    }
   ],
   "source": [
    "white = generate_full_palette_hsl(\"#EBEBEB\")\n",
    "print(white)"
   ]
  }
 ],
 "metadata": {
  "kernelspec": {
   "display_name": "Python 3",
   "language": "python",
   "name": "python3"
  },
  "language_info": {
   "codemirror_mode": {
    "name": "ipython",
    "version": 3
   },
   "file_extension": ".py",
   "mimetype": "text/x-python",
   "name": "python",
   "nbconvert_exporter": "python",
   "pygments_lexer": "ipython3",
   "version": "3.12.5"
  }
 },
 "nbformat": 4,
 "nbformat_minor": 2
}
