{
 "cells": [
  {
   "cell_type": "code",
   "execution_count": 1,
   "metadata": {},
   "outputs": [],
   "source": [
    "from PIL import Image, ImageDraw\n",
    "import colorsys\n",
    "\n",
    "def rgb_to_hsl(rgb):\n",
    "    \"\"\"Convert an RGB tuple to an HSL tuple.\"\"\"\n",
    "    r, g, b = [x / 255.0 for x in rgb]  # Normalize RGB values to 0-1\n",
    "    h, l, s = colorsys.rgb_to_hls(r, g, b)\n",
    "    return f'hsl({int(h * 360)}, {int(s * 100)}%, {int(l * 100)}%)'  # Convert to HSL with degrees and percentage\n",
    "\n",
    "def generate_full_palette_hsl(base_color, num_shades=5, num_tints=5, max_lightness=0.9, max_darkness=0.8):\n",
    "    # Convert the base color from hex to RGB\n",
    "    base_rgb = tuple(int(base_color[i:i+2], 16) for i in (1, 3, 5))\n",
    "    \n",
    "    # Create an image for the palette\n",
    "    width, height = 500, 100\n",
    "    total_colors = num_shades + num_tints + 1  # Total colors including base\n",
    "    img = Image.new(\"RGB\", (width, height), \"white\")\n",
    "    draw = ImageDraw.Draw(img)\n",
    "    \n",
    "    # Generate lighter tints\n",
    "    lighter_colors = [\n",
    "        (\n",
    "            int(base_rgb[0] + (255 - base_rgb[0]) * (i / num_tints) * max_lightness),\n",
    "            int(base_rgb[1] + (255 - base_rgb[1]) * (i / num_tints) * max_lightness),\n",
    "            int(base_rgb[2] + (255 - base_rgb[2]) * (i / num_tints) * max_lightness),\n",
    "        )\n",
    "        for i in range(1, num_tints + 1)\n",
    "    ]\n",
    "    \n",
    "    # Generate darker shades\n",
    "    darker_colors = [\n",
    "        (\n",
    "            int(base_rgb[0] * (1 - (i / num_shades) * max_darkness)),\n",
    "            int(base_rgb[1] * (1 - (i / num_shades) * max_darkness)),\n",
    "            int(base_rgb[2] * (1 - (i / num_shades) * max_darkness)),\n",
    "        )\n",
    "        for i in range(1, num_shades + 1)\n",
    "    ]\n",
    "    \n",
    "    # Combine colors: darker shades, base color, and lighter tints\n",
    "    colors = darker_colors[::-1] + [base_rgb] + lighter_colors\n",
    "    \n",
    "    # Draw each color as a rectangle and print HSL values\n",
    "    rect_width = width // total_colors\n",
    "    hsl_palette = []\n",
    "    for i, color in enumerate(colors):\n",
    "        draw.rectangle([i * rect_width, 0, (i + 1) * rect_width, height], fill=color)\n",
    "        hsl_value = rgb_to_hsl(color)\n",
    "        hsl_palette.append(hsl_value)\n",
    "    \n",
    "    img.show()\n",
    "    return hsl_palette\n",
    "\n",
    "pallete_values = [\"50\", \"100\", \"200\", \"300\", \"400\", \"500\", \"600\", \"700\", \"800\", \"900\", \"950\"][::-1]\n",
    "\n",
    "def makeTailwindPallete(colorName: str, colors):\n",
    "    returned_string = f\"\\'{colorName}\\': {{ \\n\"\n",
    "    for i in range(len(pallete_values)):\n",
    "        returned_string = returned_string + f\"\\t{pallete_values[i]}: \\'{colors[i]}\\',  \\n\"\n",
    "    returned_string = returned_string + \"},\"\n",
    "\n",
    "    return returned_string"
   ]
  },
  {
   "cell_type": "code",
   "execution_count": 2,
   "metadata": {},
   "outputs": [
    {
     "name": "stdout",
     "output_type": "stream",
     "text": [
      "'darkness': { \n",
      "\t950: 'hsl(180, 9%, 4%)',  \n",
      "\t900: 'hsl(180, 9%, 8%)',  \n",
      "\t800: 'hsl(169, 8%, 13%)',  \n",
      "\t700: 'hsl(172, 8%, 17%)',  \n",
      "\t600: 'hsl(174, 8%, 22%)',  \n",
      "\t500: 'hsl(180, 4%, 33%)',  \n",
      "\t400: 'hsl(180, 3%, 45%)',  \n",
      "\t300: 'hsl(180, 2%, 57%)',  \n",
      "\t200: 'hsl(180, 2%, 68%)',  \n",
      "\t100: 'hsl(180, 1%, 80%)',  \n",
      "\t50: 'hsl(180, 2%, 91%)',  \n",
      "},\n"
     ]
    }
   ],
   "source": [
    "background = generate_full_palette_hsl(\"#343E3D\", 4, 6)\n",
    "\n",
    "bgst_bg = makeTailwindPallete(\"darkness\", background)\n",
    "print(bgst_bg)"
   ]
  },
  {
   "cell_type": "code",
   "execution_count": 3,
   "metadata": {},
   "outputs": [],
   "source": [
    "red = generate_full_palette_hsl(\"#F45B69\")\n",
    "\n",
    "bgst_red = makeTailwindPallete(\"red\", red)"
   ]
  },
  {
   "cell_type": "code",
   "execution_count": 4,
   "metadata": {},
   "outputs": [],
   "source": [
    "yellow = generate_full_palette_hsl(\"#F1A208\")\n",
    "\n",
    "bgst_yellow = makeTailwindPallete(\"yellow\", yellow)"
   ]
  },
  {
   "cell_type": "code",
   "execution_count": 5,
   "metadata": {},
   "outputs": [],
   "source": [
    "green = generate_full_palette_hsl(\"#729B79\")\n",
    "\n",
    "bgst_green =makeTailwindPallete(\"green\", green)"
   ]
  },
  {
   "cell_type": "code",
   "execution_count": 6,
   "metadata": {},
   "outputs": [
    {
     "name": "stdout",
     "output_type": "stream",
     "text": [
      "'swhite': { \n",
      "\t950: 'hsl(0, 0%, 18%)',  \n",
      "\t900: 'hsl(0, 0%, 27%)',  \n",
      "\t800: 'hsl(0, 0%, 36%)',  \n",
      "\t700: 'hsl(0, 0%, 45%)',  \n",
      "\t600: 'hsl(0, 0%, 55%)',  \n",
      "\t500: 'hsl(0, 0%, 64%)',  \n",
      "\t400: 'hsl(0, 0%, 73%)',  \n",
      "\t300: 'hsl(0, 0%, 82%)',  \n",
      "\t200: 'hsl(0, 0%, 92%)',  \n",
      "\t100: 'hsl(0, 0%, 95%)',  \n",
      "\t50: 'hsl(0, 0%, 99%)',  \n",
      "},\n"
     ]
    }
   ],
   "source": [
    "white = generate_full_palette_hsl(\"#EBEBEB\", 8, 2)\n",
    "\n",
    "bgst_white = makeTailwindPallete(\"swhite\", white)\n",
    "\n",
    "print(bgst_white)"
   ]
  },
  {
   "cell_type": "code",
   "execution_count": 7,
   "metadata": {},
   "outputs": [
    {
     "name": "stdout",
     "output_type": "stream",
     "text": [
      "'bgst': { \n",
      "\t950: 'hsl(191, 33%, 9%)',  \n",
      "\t900: 'hsl(192, 34%, 17%)',  \n",
      "\t800: 'hsl(189, 33%, 24%)',  \n",
      "\t700: 'hsl(191, 34%, 32%)',  \n",
      "\t600: 'hsl(190, 33%, 40%)',  \n",
      "\t500: 'hsl(190, 33%, 48%)',  \n",
      "\t400: 'hsl(191, 31%, 57%)',  \n",
      "\t300: 'hsl(191, 31%, 66%)',  \n",
      "\t200: 'hsl(191, 31%, 76%)',  \n",
      "\t100: 'hsl(190, 30%, 85%)',  \n",
      "\t50: 'hsl(193, 33%, 94%)',  \n",
      "},\n"
     ]
    }
   ],
   "source": [
    "fandago = generate_full_palette_hsl(\"#5296A5\", 5, 5)\n",
    "\n",
    "bgst_fandago = makeTailwindPallete(\"bgst\", fandago)\n",
    "\n",
    "print(bgst_fandago)"
   ]
  },
  {
   "cell_type": "code",
   "execution_count": 8,
   "metadata": {},
   "outputs": [
    {
     "name": "stdout",
     "output_type": "stream",
     "text": [
      "'darkness': { \n",
      "\t950: 'hsl(180, 9%, 4%)',  \n",
      "\t900: 'hsl(180, 9%, 8%)',  \n",
      "\t800: 'hsl(169, 8%, 13%)',  \n",
      "\t700: 'hsl(172, 8%, 17%)',  \n",
      "\t600: 'hsl(174, 8%, 22%)',  \n",
      "\t500: 'hsl(180, 4%, 33%)',  \n",
      "\t400: 'hsl(180, 3%, 45%)',  \n",
      "\t300: 'hsl(180, 2%, 57%)',  \n",
      "\t200: 'hsl(180, 2%, 68%)',  \n",
      "\t100: 'hsl(180, 1%, 80%)',  \n",
      "\t50: 'hsl(180, 2%, 91%)',  \n",
      "},'red': { \n",
      "\t950: 'hsl(356, 45%, 12%)',  \n",
      "\t900: 'hsl(354, 46%, 23%)',  \n",
      "\t800: 'hsl(354, 45%, 33%)',  \n",
      "\t700: 'hsl(354, 46%, 44%)',  \n",
      "\t600: 'hsl(354, 55%, 54%)',  \n",
      "\t500: 'hsl(354, 87%, 65%)',  \n",
      "\t400: 'hsl(354, 86%, 71%)',  \n",
      "\t300: 'hsl(354, 85%, 77%)',  \n",
      "\t200: 'hsl(354, 85%, 83%)',  \n",
      "\t100: 'hsl(354, 84%, 90%)',  \n",
      "\t50: 'hsl(352, 78%, 96%)',  \n",
      "},'yellow': { \n",
      "\t950: 'hsl(39, 95%, 9%)',  \n",
      "\t900: 'hsl(40, 95%, 17%)',  \n",
      "\t800: 'hsl(39, 93%, 25%)',  \n",
      "\t700: 'hsl(39, 94%, 32%)',  \n",
      "\t600: 'hsl(39, 94%, 40%)',  \n",
      "\t500: 'hsl(39, 93%, 48%)',  \n",
      "\t400: 'hsl(39, 88%, 57%)',  \n",
      "\t300: 'hsl(39, 89%, 67%)',  \n",
      "\t200: 'hsl(39, 88%, 76%)',  \n",
      "\t100: 'hsl(39, 89%, 85%)',  \n",
      "\t50: 'hsl(39, 85%, 94%)',  \n",
      "},'green': { \n",
      "\t950: 'hsl(135, 15%, 10%)',  \n",
      "\t900: 'hsl(128, 14%, 18%)',  \n",
      "\t800: 'hsl(128, 15%, 27%)',  \n",
      "\t700: 'hsl(130, 15%, 35%)',  \n",
      "\t600: 'hsl(130, 15%, 44%)',  \n",
      "\t500: 'hsl(130, 17%, 52%)',  \n",
      "\t400: 'hsl(130, 17%, 61%)',  \n",
      "\t300: 'hsl(131, 17%, 69%)',  \n",
      "\t200: 'hsl(129, 17%, 78%)',  \n",
      "\t100: 'hsl(129, 17%, 86%)',  \n",
      "\t50: 'hsl(131, 20%, 95%)',  \n",
      "},'swhite': { \n",
      "\t950: 'hsl(0, 0%, 18%)',  \n",
      "\t900: 'hsl(0, 0%, 27%)',  \n",
      "\t800: 'hsl(0, 0%, 36%)',  \n",
      "\t700: 'hsl(0, 0%, 45%)',  \n",
      "\t600: 'hsl(0, 0%, 55%)',  \n",
      "\t500: 'hsl(0, 0%, 64%)',  \n",
      "\t400: 'hsl(0, 0%, 73%)',  \n",
      "\t300: 'hsl(0, 0%, 82%)',  \n",
      "\t200: 'hsl(0, 0%, 92%)',  \n",
      "\t100: 'hsl(0, 0%, 95%)',  \n",
      "\t50: 'hsl(0, 0%, 99%)',  \n",
      "},'bgst': { \n",
      "\t950: 'hsl(191, 33%, 9%)',  \n",
      "\t900: 'hsl(192, 34%, 17%)',  \n",
      "\t800: 'hsl(189, 33%, 24%)',  \n",
      "\t700: 'hsl(191, 34%, 32%)',  \n",
      "\t600: 'hsl(190, 33%, 40%)',  \n",
      "\t500: 'hsl(190, 33%, 48%)',  \n",
      "\t400: 'hsl(191, 31%, 57%)',  \n",
      "\t300: 'hsl(191, 31%, 66%)',  \n",
      "\t200: 'hsl(191, 31%, 76%)',  \n",
      "\t100: 'hsl(190, 30%, 85%)',  \n",
      "\t50: 'hsl(193, 33%, 94%)',  \n",
      "},\n"
     ]
    }
   ],
   "source": [
    "config = bgst_bg + bgst_red + bgst_yellow + bgst_green + bgst_white + bgst_fandago\n",
    "\n",
    "print(config)"
   ]
  },
  {
   "cell_type": "code",
   "execution_count": 9,
   "metadata": {},
   "outputs": [
    {
     "name": "stdout",
     "output_type": "stream",
     "text": [
      "'blood': { \n",
      "\t950: 'hsl(0, 91%, 4%)',  \n",
      "\t900: 'hsl(0, 91%, 9%)',  \n",
      "\t800: 'hsl(0, 92%, 14%)',  \n",
      "\t700: 'hsl(0, 92%, 19%)',  \n",
      "\t600: 'hsl(0, 90%, 24%)',  \n",
      "\t500: 'hsl(0, 53%, 35%)',  \n",
      "\t400: 'hsl(0, 33%, 47%)',  \n",
      "\t300: 'hsl(0, 29%, 58%)',  \n",
      "\t200: 'hsl(0, 29%, 69%)',  \n",
      "\t100: 'hsl(0, 29%, 80%)',  \n",
      "\t50: 'hsl(0, 28%, 92%)',  \n",
      "},\n"
     ]
    }
   ],
   "source": [
    "blood = generate_full_palette_hsl(\"#780606\", 4, 6)\n",
    "\n",
    "parker_blood = makeTailwindPallete(\"blood\", blood)\n",
    "\n",
    "print(parker_blood)"
   ]
  },
  {
   "cell_type": "code",
   "execution_count": 10,
   "metadata": {},
   "outputs": [
    {
     "name": "stdout",
     "output_type": "stream",
     "text": [
      "'pppruple': { \n",
      "\t950: 'hsl(316, 40%, 5%)',  \n",
      "\t900: 'hsl(315, 38%, 9%)',  \n",
      "\t800: 'hsl(313, 38%, 13%)',  \n",
      "\t700: 'hsl(315, 38%, 18%)',  \n",
      "\t600: 'hsl(315, 37%, 22%)',  \n",
      "\t500: 'hsl(314, 38%, 27%)',  \n",
      "\t400: 'hsl(315, 20%, 40%)',  \n",
      "\t300: 'hsl(315, 14%, 53%)',  \n",
      "\t200: 'hsl(315, 13%, 66%)',  \n",
      "\t100: 'hsl(315, 14%, 79%)',  \n",
      "\t50: 'hsl(319, 15%, 92%)',  \n",
      "},\n"
     ]
    }
   ],
   "source": [
    "purple = generate_full_palette_hsl('#602B53')\n",
    "\n",
    "pppurple = makeTailwindPallete(\"pppruple\", purple)\n",
    "\n",
    "print(pppurple)"
   ]
  },
  {
   "cell_type": "code",
   "execution_count": 12,
   "metadata": {},
   "outputs": [
    {
     "name": "stdout",
     "output_type": "stream",
     "text": [
      "'pporange': { \n",
      "\t950: 'hsl(12, 52%, 12%)',  \n",
      "\t900: 'hsl(12, 51%, 22%)',  \n",
      "\t800: 'hsl(12, 51%, 32%)',  \n",
      "\t700: 'hsl(12, 51%, 42%)',  \n",
      "\t600: 'hsl(12, 57%, 52%)',  \n",
      "\t500: 'hsl(12, 86%, 62%)',  \n",
      "\t400: 'hsl(12, 85%, 69%)',  \n",
      "\t300: 'hsl(12, 85%, 75%)',  \n",
      "\t200: 'hsl(12, 86%, 82%)',  \n",
      "\t100: 'hsl(11, 85%, 89%)',  \n",
      "\t50: 'hsl(11, 80%, 96%)',  \n",
      "},\n"
     ]
    }
   ],
   "source": [
    "oragnge = generate_full_palette_hsl('#F2704E')\n",
    "\n",
    "pporange = makeTailwindPallete(\"pporange\", oragnge)\n",
    "\n",
    "print(pporange)"
   ]
  },
  {
   "cell_type": "code",
   "execution_count": null,
   "metadata": {},
   "outputs": [],
   "source": []
  }
 ],
 "metadata": {
  "kernelspec": {
   "display_name": "Python 3",
   "language": "python",
   "name": "python3"
  },
  "language_info": {
   "codemirror_mode": {
    "name": "ipython",
    "version": 3
   },
   "file_extension": ".py",
   "mimetype": "text/x-python",
   "name": "python",
   "nbconvert_exporter": "python",
   "pygments_lexer": "ipython3",
   "version": "3.9.6"
  }
 },
 "nbformat": 4,
 "nbformat_minor": 2
}
